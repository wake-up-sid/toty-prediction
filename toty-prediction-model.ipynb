{
 "cells": [
  {
   "cell_type": "markdown",
   "id": "4f1c6e17-dda8-4621-8c9c-50b9109460e7",
   "metadata": {},
   "source": [
    "## Data Preprocessing"
   ]
  },
  {
   "cell_type": "code",
   "execution_count": 1,
   "id": "94c81b8c-c074-42de-9ded-1953031e6b5e",
   "metadata": {},
   "outputs": [],
   "source": [
    "import numpy as np \n",
    "import pandas as pd \n",
    "import matplotlib.pyplot as plt\n",
    "import seaborn as sns\n",
    "from sklearn.preprocessing import StandardScaler\n",
    "from sklearn.tree import DecisionTreeRegressor\n",
    "from sklearn.ensemble import RandomForestRegressor\n",
    "from sklearn.feature_selection import RFE\n",
    "from sklearn.model_selection import train_test_split\n",
    "from sklearn.metrics import mean_absolute_error, mean_squared_error, r2_score\n",
    "import warnings\n",
    "warnings.filterwarnings('ignore')"
   ]
  },
  {
   "cell_type": "markdown",
   "id": "c6492071-6ac7-49ff-be92-f9695bfcdded",
   "metadata": {},
   "source": [
    "### Import data"
   ]
  },
  {
   "cell_type": "code",
   "execution_count": 2,
   "id": "c8a1b411-5fb4-478d-817d-39b7afd455ed",
   "metadata": {},
   "outputs": [
    {
     "data": {
      "text/plain": [
       "(8112, 269)"
      ]
     },
     "execution_count": 2,
     "metadata": {},
     "output_type": "execute_result"
    }
   ],
   "source": [
    "player_df = pd.read_csv('epl-players-2010-2023-stats.csv', index_col=0)\n",
    "player_df.shape"
   ]
  },
  {
   "cell_type": "markdown",
   "id": "8f3f0414-30d0-4029-9702-00bd5d2ab709",
   "metadata": {},
   "source": [
    "### Name corrections"
   ]
  },
  {
   "cell_type": "code",
   "execution_count": 3,
   "id": "7c3dd5f5-f2ed-4ce6-aa4e-9ae9fd5b794f",
   "metadata": {},
   "outputs": [
    {
     "name": "stdout",
     "output_type": "stream",
     "text": [
      "['Abdoulaye Mu00e9u00eftu00e9' 'Cheik Ismau00ebl Tiotu00e9'\n",
      " 'Didier Yves Drogba Tu00e9bily' 'Emmanuel Ebouu00e9'\n",
      " 'Gnu00e9gnu00e9ri Yaya Touru00e9' 'Kolo Habib Touru00e9'\n",
      " 'Lohoru00e9 Steve Ulrich Gohouri' 'Arouna Konu00e9' 'Lacina Traoru00e9'\n",
      " 'Lamine Konu00e9' 'Jean Michau00ebl Seri']\n"
     ]
    }
   ],
   "source": [
    "wrong_names = player_df[player_df['full_name'].str.contains('u00', na=False)]['full_name'].unique()\n",
    "print(wrong_names)"
   ]
  },
  {
   "cell_type": "code",
   "execution_count": 4,
   "id": "697748e7-3659-4452-a9f6-9573ca23d9d3",
   "metadata": {},
   "outputs": [],
   "source": [
    "name_corrections = {\n",
    "    'Gnu00e9gnu00e9ri Yaya Touru00e9': 'Yaya Touré',\n",
    "    'Abdoulaye Mu00e9u00eftu00e9': 'Abdoulaye Méïté',\n",
    "    'Cheik Ismau00ebl Tiotu00e9': 'Cheik Ismaël Tioté',\n",
    "    'Emmanuel Ebouu00e9': 'Emmanuel Eboué',\n",
    "    'Kolo Habib Touru00e9': 'Kolo Habib Touré',\n",
    "    'Lohoru00e9 Steve Ulrich Gohouri': 'Lohoré Steve Ulrich Gohouri',\n",
    "    'Arouna Konu00e9': 'Arouna Koné',\n",
    "    'Lacina Traoru00e9': 'Lacina Traoré',\n",
    "    'Lamine Konu00e9': 'Lamine Koné',\n",
    "    'Jean Michau00ebl Seri': 'Jean Michaël Seri',\n",
    "    'Didier Yves Drogba Tu00e9bily': 'Didier Drogba'\n",
    "}\n",
    "\n",
    "player_df['full_name'] = player_df['full_name'].replace(name_corrections)"
   ]
  },
  {
   "cell_type": "markdown",
   "id": "05550222-4c14-405f-a0c6-b771bbc40524",
   "metadata": {},
   "source": [
    "### Correcting age & removing redundant columns"
   ]
  },
  {
   "cell_type": "code",
   "execution_count": 5,
   "id": "65985da8-e256-41dc-bb82-ea4f30d4de12",
   "metadata": {},
   "outputs": [],
   "source": [
    "player_df['birthday_GMT']= pd.to_datetime(player_df['birthday_GMT'])\n",
    "player_df['age'] = pd.to_datetime(player_df['season'].str.slice(0, 4)).dt.year - player_df['birthday_GMT'].dt.year\n",
    "player_df.drop(['birthday','birthday_GMT','league'],axis=1,inplace=True)\n",
    "player_df = player_df.rename(columns={'Current Club': 'team'})"
   ]
  },
  {
   "cell_type": "markdown",
   "id": "7ef8c1f2-5a1f-4ad2-b5ab-fd75bece8a0c",
   "metadata": {},
   "source": [
    "### Features with >70% null records"
   ]
  },
  {
   "cell_type": "code",
   "execution_count": 6,
   "id": "16542922-0e78-4ce0-afe3-959e9092d395",
   "metadata": {},
   "outputs": [
    {
     "data": {
      "text/plain": [
       "222"
      ]
     },
     "execution_count": 6,
     "metadata": {},
     "output_type": "execute_result"
    }
   ],
   "source": [
    "missing = player_df.isnull().sum()*100/player_df.shape[0]\n",
    "player_df.columns[missing>70].shape[0]"
   ]
  },
  {
   "cell_type": "markdown",
   "id": "f07b5dbd-7bfd-4d22-b036-e7370f132ade",
   "metadata": {},
   "source": [
    "### Removing 222 features + filtering for players playing >1000 min"
   ]
  },
  {
   "cell_type": "code",
   "execution_count": 7,
   "id": "ffd05e72-e0e7-4780-9812-c56ddf219ad0",
   "metadata": {},
   "outputs": [
    {
     "data": {
      "text/plain": [
       "season\n",
       "2010/2011    308\n",
       "2011/2012    312\n",
       "2012/2013    318\n",
       "2013/2014    320\n",
       "2014/2015    304\n",
       "2015/2016    311\n",
       "2016/2017    308\n",
       "2017/2018    319\n",
       "2018/2019    305\n",
       "2019/2020    307\n",
       "2020/2021    317\n",
       "2021/2022    318\n",
       "2022/2023    309\n",
       "Name: full_name, dtype: int64"
      ]
     },
     "execution_count": 7,
     "metadata": {},
     "output_type": "execute_result"
    }
   ],
   "source": [
    "full_df = player_df[player_df.columns[missing<70]]\n",
    "filtered_df = full_df[full_df['minutes_played_overall']>1000]\n",
    "\n",
    "filtered_df.groupby('season').full_name.count()"
   ]
  },
  {
   "cell_type": "markdown",
   "id": "436d7bb8-ed8c-4877-a010-6fb983adf88c",
   "metadata": {},
   "source": [
    "### Identifying highly correlated features "
   ]
  },
  {
   "cell_type": "code",
   "execution_count": 8,
   "id": "a1579875-2ddc-45f4-8e6b-99352e83d351",
   "metadata": {},
   "outputs": [],
   "source": [
    "corr_df = filtered_df[filtered_df.select_dtypes(include=['number']).columns].corr()\n",
    "mask=np.triu(np.ones(corr_df.shape), k=1).astype('bool')\n",
    "tri_df = corr_df.where(mask)\n",
    "\n",
    "corr_table = tri_df.stack().reset_index()\n",
    "corr_table.columns = ['feature1', 'feature2', 'correlation']\n",
    "corr_table = corr_table.sort_values('correlation', ascending=False)\n",
    "hi_corr_table = corr_table[corr_table['correlation']>0.8]"
   ]
  },
  {
   "cell_type": "markdown",
   "id": "d3e0e1e2-9a38-40b3-96cf-821c2b6940fc",
   "metadata": {},
   "source": [
    "### Dropping highly correlated & more redundant features"
   ]
  },
  {
   "cell_type": "code",
   "execution_count": 9,
   "id": "a6d759fc-9caa-4bba-b72d-c8f6bbaca868",
   "metadata": {},
   "outputs": [],
   "source": [
    "final_df = filtered_df.drop(['minutes_played_home', 'minutes_played_away', 'appearances_home', 'appearances_away', 'goals_overall',\n",
    "                 'goals_per_90_home', 'goals_per_90_away', 'assists_overall','rank_in_league_top_defenders', 'rank_in_club_top_scorer',\n",
    "                 'rank_in_league_top_attackers', 'rank_in_league_top_midfielders','conceded_overall','clean_sheets_overall', \n",
    "                 'cards_per_90_overall'], axis=1)"
   ]
  },
  {
   "cell_type": "markdown",
   "id": "6855148f-baf2-499f-9321-211afc31103f",
   "metadata": {},
   "source": [
    "Only goals, assists, conceded & clean sheets have home & away stats separately.<br>\n",
    "All other stats including minutes, appearances, and efficiency-related stats have their overall values."
   ]
  },
  {
   "cell_type": "code",
   "execution_count": 10,
   "id": "961a7172-93ee-4561-9ac9-8c7a352e0c1b",
   "metadata": {},
   "outputs": [
    {
     "data": {
      "text/plain": [
       "Index(['full_name', 'age', 'season', 'position', 'team',\n",
       "       'minutes_played_overall', 'nationality', 'appearances_overall',\n",
       "       'goals_home', 'goals_away', 'assists_home', 'assists_away',\n",
       "       'penalty_goals', 'penalty_misses', 'clean_sheets_home',\n",
       "       'clean_sheets_away', 'conceded_home', 'conceded_away',\n",
       "       'yellow_cards_overall', 'red_cards_overall',\n",
       "       'goals_involved_per_90_overall', 'assists_per_90_overall',\n",
       "       'goals_per_90_overall', 'min_per_goal_overall',\n",
       "       'conceded_per_90_overall', 'min_per_conceded_overall', 'min_per_match',\n",
       "       'min_per_card_overall', 'min_per_assist_overall'],\n",
       "      dtype='object')"
      ]
     },
     "execution_count": 10,
     "metadata": {},
     "output_type": "execute_result"
    }
   ],
   "source": [
    "final_df.columns"
   ]
  },
  {
   "cell_type": "markdown",
   "id": "ca858b84-4110-4719-89ac-de6dd5ad5bb6",
   "metadata": {},
   "source": [
    "---\n",
    "## Feature engineering"
   ]
  },
  {
   "cell_type": "markdown",
   "id": "2f6cd7c1-2aef-44fb-a158-912428c5d908",
   "metadata": {},
   "source": [
    "### creating 2011-2023 TOTY winners list"
   ]
  },
  {
   "cell_type": "code",
   "execution_count": 11,
   "id": "188095c5-ff7f-4422-995b-cec05bfe2e06",
   "metadata": {},
   "outputs": [],
   "source": [
    "toty = pd.DataFrame(data={\n",
    "    '2010/2011': ['Carlos Alberto Tevez','Dimitar Ivanov Berbatov','Gareth Bale','Samir Nasri','Jack Wilshere','Nani','Ashley Cole','Nemanja Vidić','Vincent Kompany','Bacary Sagna','Edwin van der Sar'],\n",
    "    '2011/2012': ['Robin van Persie','Wayne Rooney','Gareth Bale','Yaya Touré','Scott Parker','David Silva','Leighton Baines','Vincent Kompany','Fabricio Coloccini','Kyle Walker','Joe Hart'], \n",
    "    '2012/2013': ['Robin van Persie','Luis Suárez','Gareth Bale','Juan Mata','Michael Carrick','Eden Hazard','Leighton Baines','Jan Vertonghen','Rio Ferdinand','Pablo Zabaleta','David de Gea'], \n",
    "    '2013/2014': ['Luis Suárez','Daniel Sturridge','Eden Hazard','Yaya Touré','Steven Gerrard','Adam Lallana','Luke Shaw','Vincent Kompany','Gary Cahill','Séamus Coleman','Petr Čech'], \n",
    "    '2014/2015': ['Diego Costa','Harry Kane','Alexis Sanchez','Nemanja Matić','Philippe Coutinho','Eden Hazard','Ryan Bertrand','John Terry','Gary Cahill','Branislav Ivanović','David de Gea'], \n",
    "    '2015/2016': ['Jamie Vardy','Harry Kane','Dimitri Payet',\"N'Golo Kanté\",'Dele Alli','Riyad Mahrez','Danny Rose','Toby Alderweireld','Wes Morgan','Hector Bellerin','David de Gea'], \n",
    "    '2016/2017': ['Harry Kane','Romelu Lukaku','Sadio Mané','Dele Alli',\"N'Golo Kanté\",'Eden Hazard','Danny Rose','David Luiz','Gary Cahill','Kyle Walker','David de Gea'], \n",
    "    '2017/2018': ['Sergio Aguero','Harry Kane','Mohamed Salah','David Silva','Kevin De Bruyne','Christian Eriksen','Marcos Alonso','Jan Vertonghen','Nicolas Otamendi','Kyle Walker','David de Gea'], \n",
    "    '2018/2019': ['Sadio Mané','Sergio Aguero','Raheem Sterling','Paul Pogba','Fernandinho','Bernardo Silva','Andrew Robertson','Virgil van Dijk','Aymeric Laporte','Trent Alexander-Arnold','Ederson'], \n",
    "    '2019/2020': ['Sadio Mané','Jamie Vardy','Pierre-Emerick Aubameyang','David Silva','Jordan Henderson','Kevin De Bruyne','Andrew Robertson','Virgil van Dijk','Caglar Söyüncü','Trent Alexander-Arnold','Nick Pope'],\n",
    "    '2020/2021': ['Heung-Min Son','Harry Kane','Mohamed Salah','Kevin De Bruyne','İlkay Gündoğan','Bruno Fernandes','Luke Shaw','John Stones','Rúben Dias','João Cancelo','Ederson'],\n",
    "    '2021/2022': ['Sadio Mané','Cristiano Ronaldo','Mohamed Salah','Bernardo Silva','Thiago Alcantara','Kevin De Bruyne','João Cancelo','Virgil van Dijk','Antonio Rüdiger','Trent Alexander-Arnold','Alisson Becker'],\n",
    "    '2022/2023': ['Harry Kane','Erling Haaland','Bukayo Saka','Martin Ødegaard','Rodri','Kevin De Bruyne','William Saliba','John Stones','Rúben Dias','Kieran Trippier','Aaron Ramsdale']\n",
    "})\n",
    "\n",
    "toty_df = toty.melt(var_name='season', value_name='full_name')\n"
   ]
  },
  {
   "cell_type": "markdown",
   "id": "66c1d090-bfd3-4d61-9f48-10c4ae5d20ec",
   "metadata": {},
   "source": [
    "### creating target feature"
   ]
  },
  {
   "cell_type": "code",
   "execution_count": 12,
   "id": "a4dcc415-67c2-4712-96c5-04378184ced0",
   "metadata": {},
   "outputs": [],
   "source": [
    "toty_df['toty_player'] = 1\n",
    "final_df1 = final_df.merge(toty_df[['season', 'full_name', 'toty_player']], on=['season', 'full_name'], how='left')\n",
    "final_df1['toty_player'] = final_df1['toty_player'].fillna(0).astype(int)"
   ]
  },
  {
   "cell_type": "markdown",
   "id": "cd2094aa-9e46-4eb1-9beb-2ccab375904b",
   "metadata": {},
   "source": [
    "### import team data to get league position"
   ]
  },
  {
   "cell_type": "code",
   "execution_count": 13,
   "id": "323e3b0d-33b5-459b-afe6-0d74984ba90b",
   "metadata": {},
   "outputs": [],
   "source": [
    "teams_df = pd.read_csv('epl-teams-2010-2023-stats.csv', index_col=0)\n",
    "teams_df = teams_df.rename(columns={'common_name': 'team'})\n",
    "league_pos_df = teams_df[['team', 'season', 'league_position']]"
   ]
  },
  {
   "cell_type": "code",
   "execution_count": 14,
   "id": "dc664fd9-d968-413b-8d64-b63448e19b19",
   "metadata": {},
   "outputs": [],
   "source": [
    "final_df2 = final_df1.merge(league_pos_df, on=['team', 'season'], how='left')"
   ]
  },
  {
   "cell_type": "markdown",
   "id": "2f8a2901-f417-4353-8dff-bcf1081f3a75",
   "metadata": {},
   "source": [
    "#### verifying that all TOTY players have been recorded..."
   ]
  },
  {
   "cell_type": "code",
   "execution_count": 15,
   "id": "e28de317-c947-415c-8ebc-5e348b58d501",
   "metadata": {},
   "outputs": [
    {
     "data": {
      "text/plain": [
       "season\n",
       "2010/2011    11\n",
       "2011/2012    11\n",
       "2012/2013    11\n",
       "2013/2014    11\n",
       "2014/2015    11\n",
       "2015/2016    11\n",
       "2016/2017    11\n",
       "2017/2018    11\n",
       "2018/2019    11\n",
       "2019/2020    11\n",
       "2020/2021    11\n",
       "2021/2022    11\n",
       "2022/2023    11\n",
       "Name: toty_player, dtype: int32"
      ]
     },
     "execution_count": 15,
     "metadata": {},
     "output_type": "execute_result"
    }
   ],
   "source": [
    "final_df2.groupby('season').toty_player.sum()"
   ]
  },
  {
   "cell_type": "code",
   "execution_count": 16,
   "id": "98378621-d04f-452f-9fc9-f812bd0db4a2",
   "metadata": {},
   "outputs": [
    {
     "data": {
      "text/plain": [
       "(4056, 31)"
      ]
     },
     "execution_count": 16,
     "metadata": {},
     "output_type": "execute_result"
    }
   ],
   "source": [
    "final_df2.shape"
   ]
  },
  {
   "cell_type": "markdown",
   "id": "d2769899-fef2-466a-b30e-0a65da1ca23a",
   "metadata": {},
   "source": [
    "---\n",
    "## Position-specific modeling"
   ]
  },
  {
   "cell_type": "code",
   "execution_count": 17,
   "id": "be958c87-32dd-4183-ae96-6504cdd46915",
   "metadata": {},
   "outputs": [
    {
     "data": {
      "text/plain": [
       "position\n",
       "Defender      1483\n",
       "Forward        752\n",
       "Goalkeeper     308\n",
       "Midfielder    1513\n",
       "Name: full_name, dtype: int64"
      ]
     },
     "execution_count": 17,
     "metadata": {},
     "output_type": "execute_result"
    }
   ],
   "source": [
    "final_df2.groupby('position').full_name.count()"
   ]
  },
  {
   "cell_type": "code",
   "execution_count": 19,
   "id": "b4d26c5c-470d-47a8-b62f-3e80170203b2",
   "metadata": {},
   "outputs": [
    {
     "data": {
      "text/plain": [
       "Index(['full_name', 'age', 'season', 'position', 'team',\n",
       "       'minutes_played_overall', 'nationality', 'appearances_overall',\n",
       "       'goals_home', 'goals_away', 'assists_home', 'assists_away',\n",
       "       'penalty_goals', 'penalty_misses', 'clean_sheets_home',\n",
       "       'clean_sheets_away', 'conceded_home', 'conceded_away',\n",
       "       'yellow_cards_overall', 'red_cards_overall',\n",
       "       'goals_involved_per_90_overall', 'assists_per_90_overall',\n",
       "       'goals_per_90_overall', 'min_per_goal_overall',\n",
       "       'conceded_per_90_overall', 'min_per_conceded_overall', 'min_per_match',\n",
       "       'min_per_card_overall', 'min_per_assist_overall', 'toty_player',\n",
       "       'league_position'],\n",
       "      dtype='object')"
      ]
     },
     "execution_count": 19,
     "metadata": {},
     "output_type": "execute_result"
    }
   ],
   "source": [
    "final_df2.columns"
   ]
  },
  {
   "cell_type": "code",
   "execution_count": 20,
   "id": "bc8918a6-37c0-48aa-8bf0-89ea03e7f733",
   "metadata": {},
   "outputs": [],
   "source": [
    "feature_mask = {\n",
    "    'Goalkeeper': ['full_name', 'age', 'season', 'position', 'team','nationality', 'goals_home', 'goals_away', 'assists_home', 'assists_away', \n",
    "                   'penalty_goals', 'penalty_misses', 'goals_involved_per_90_overall', 'assists_per_90_overall', 'goals_per_90_overall', \n",
    "                   'min_per_goal_overall','min_per_assist_overall'],\n",
    "    'Defender': ['full_name', 'age', 'season', 'position', 'team','nationality'],\n",
    "    'Midfielder': ['full_name', 'age', 'season', 'position', 'team','nationality'],\n",
    "    'Forward': ['full_name', 'age', 'season', 'position', 'team','nationality']\n",
    "}"
   ]
  },
  {
   "cell_type": "code",
   "execution_count": null,
   "id": "c8959c58-1828-44c8-9048-efc4fa5551b6",
   "metadata": {},
   "outputs": [],
   "source": []
  }
 ],
 "metadata": {
  "kernelspec": {
   "display_name": "Python 3 (ipykernel)",
   "language": "python",
   "name": "python3"
  },
  "language_info": {
   "codemirror_mode": {
    "name": "ipython",
    "version": 3
   },
   "file_extension": ".py",
   "mimetype": "text/x-python",
   "name": "python",
   "nbconvert_exporter": "python",
   "pygments_lexer": "ipython3",
   "version": "3.12.4"
  }
 },
 "nbformat": 4,
 "nbformat_minor": 5
}
