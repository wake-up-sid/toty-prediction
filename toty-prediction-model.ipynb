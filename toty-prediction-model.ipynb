{
 "cells": [
  {
   "cell_type": "markdown",
   "id": "4f1c6e17-dda8-4621-8c9c-50b9109460e7",
   "metadata": {},
   "source": [
    "## Data Preprocessing"
   ]
  },
  {
   "cell_type": "code",
   "execution_count": 21,
   "id": "94c81b8c-c074-42de-9ded-1953031e6b5e",
   "metadata": {},
   "outputs": [],
   "source": [
    "import numpy as np \n",
    "import pandas as pd \n",
    "\n",
    "import warnings\n",
    "warnings.filterwarnings('ignore')"
   ]
  },
  {
   "cell_type": "markdown",
   "id": "c6492071-6ac7-49ff-be92-f9695bfcdded",
   "metadata": {},
   "source": [
    "### Import data"
   ]
  },
  {
   "cell_type": "code",
   "execution_count": 3,
   "id": "c8a1b411-5fb4-478d-817d-39b7afd455ed",
   "metadata": {},
   "outputs": [
    {
     "data": {
      "text/plain": [
       "(8112, 269)"
      ]
     },
     "execution_count": 3,
     "metadata": {},
     "output_type": "execute_result"
    }
   ],
   "source": [
    "player_df = pd.read_csv('epl-players-2010-2023-stats.csv', index_col=0)\n",
    "player_df.shape"
   ]
  },
  {
   "cell_type": "markdown",
   "id": "8f3f0414-30d0-4029-9702-00bd5d2ab709",
   "metadata": {},
   "source": [
    "### Name corrections"
   ]
  },
  {
   "cell_type": "code",
   "execution_count": 4,
   "id": "7c3dd5f5-f2ed-4ce6-aa4e-9ae9fd5b794f",
   "metadata": {},
   "outputs": [
    {
     "name": "stdout",
     "output_type": "stream",
     "text": [
      "['Abdoulaye Mu00e9u00eftu00e9' 'Cheik Ismau00ebl Tiotu00e9'\n",
      " 'Didier Yves Drogba Tu00e9bily' 'Emmanuel Ebouu00e9'\n",
      " 'Gnu00e9gnu00e9ri Yaya Touru00e9' 'Kolo Habib Touru00e9'\n",
      " 'Lohoru00e9 Steve Ulrich Gohouri' 'Arouna Konu00e9' 'Lacina Traoru00e9'\n",
      " 'Lamine Konu00e9' 'Jean Michau00ebl Seri']\n"
     ]
    }
   ],
   "source": [
    "wrong_names = player_df[player_df['full_name'].str.contains('u00', na=False)]['full_name'].unique()\n",
    "print(wrong_names)"
   ]
  },
  {
   "cell_type": "code",
   "execution_count": 5,
   "id": "697748e7-3659-4452-a9f6-9573ca23d9d3",
   "metadata": {},
   "outputs": [],
   "source": [
    "name_corrections = {\n",
    "    'Gnu00e9gnu00e9ri Yaya Touru00e9': 'Yaya Touré',\n",
    "    'Abdoulaye Mu00e9u00eftu00e9': 'Abdoulaye Méïté',\n",
    "    'Cheik Ismau00ebl Tiotu00e9': 'Cheik Ismaël Tioté',\n",
    "    'Emmanuel Ebouu00e9': 'Emmanuel Eboué',\n",
    "    'Kolo Habib Touru00e9': 'Kolo Habib Touré',\n",
    "    'Lohoru00e9 Steve Ulrich Gohouri': 'Lohoré Steve Ulrich Gohouri',\n",
    "    'Arouna Konu00e9': 'Arouna Koné',\n",
    "    'Lacina Traoru00e9': 'Lacina Traoré',\n",
    "    'Lamine Konu00e9': 'Lamine Koné',\n",
    "    'Jean Michau00ebl Seri': 'Jean Michaël Seri',\n",
    "    'Didier Yves Drogba Tu00e9bily': 'Didier Drogba'\n",
    "}\n",
    "\n",
    "player_df['full_name'] = player_df['full_name'].replace(name_corrections)"
   ]
  },
  {
   "cell_type": "markdown",
   "id": "05550222-4c14-405f-a0c6-b771bbc40524",
   "metadata": {},
   "source": [
    "### Correcting age & removing redundant columns"
   ]
  },
  {
   "cell_type": "code",
   "execution_count": 6,
   "id": "65985da8-e256-41dc-bb82-ea4f30d4de12",
   "metadata": {},
   "outputs": [],
   "source": [
    "player_df['birthday_GMT']= pd.to_datetime(player_df['birthday_GMT'])\n",
    "player_df['age'] = pd.to_datetime(player_df['season'].str.slice(0, 4)).dt.year - player_df['birthday_GMT'].dt.year\n",
    "player_df.drop(['birthday','birthday_GMT','league'],axis=1,inplace=True)\n",
    "player_df = player_df.rename(columns={'Current Club': 'team'})"
   ]
  },
  {
   "cell_type": "markdown",
   "id": "7ef8c1f2-5a1f-4ad2-b5ab-fd75bece8a0c",
   "metadata": {},
   "source": [
    "### Features with >70% null records"
   ]
  },
  {
   "cell_type": "code",
   "execution_count": 7,
   "id": "16542922-0e78-4ce0-afe3-959e9092d395",
   "metadata": {},
   "outputs": [
    {
     "data": {
      "text/plain": [
       "222"
      ]
     },
     "execution_count": 7,
     "metadata": {},
     "output_type": "execute_result"
    }
   ],
   "source": [
    "missing = player_df.isnull().sum()*100/player_df.shape[0]\n",
    "player_df.columns[missing>70].shape[0]"
   ]
  },
  {
   "cell_type": "markdown",
   "id": "f07b5dbd-7bfd-4d22-b036-e7370f132ade",
   "metadata": {},
   "source": [
    "### Removing 222 features + filtering for players playing >1000 min"
   ]
  },
  {
   "cell_type": "code",
   "execution_count": 8,
   "id": "ffd05e72-e0e7-4780-9812-c56ddf219ad0",
   "metadata": {},
   "outputs": [
    {
     "data": {
      "text/plain": [
       "season\n",
       "2010/2011    308\n",
       "2011/2012    312\n",
       "2012/2013    318\n",
       "2013/2014    320\n",
       "2014/2015    304\n",
       "2015/2016    311\n",
       "2016/2017    308\n",
       "2017/2018    319\n",
       "2018/2019    305\n",
       "2019/2020    307\n",
       "2020/2021    317\n",
       "2021/2022    318\n",
       "2022/2023    309\n",
       "Name: full_name, dtype: int64"
      ]
     },
     "execution_count": 8,
     "metadata": {},
     "output_type": "execute_result"
    }
   ],
   "source": [
    "full_df = player_df[player_df.columns[missing<70]]\n",
    "filtered_df = full_df[full_df['minutes_played_overall']>1000]\n",
    "\n",
    "filtered_df.groupby('season').full_name.count()"
   ]
  },
  {
   "cell_type": "markdown",
   "id": "436d7bb8-ed8c-4877-a010-6fb983adf88c",
   "metadata": {},
   "source": [
    "### Identifying highly correlated features "
   ]
  },
  {
   "cell_type": "code",
   "execution_count": 9,
   "id": "a1579875-2ddc-45f4-8e6b-99352e83d351",
   "metadata": {},
   "outputs": [],
   "source": [
    "corr_df = filtered_df[filtered_df.select_dtypes(include=['number']).columns].corr()\n",
    "mask=np.triu(np.ones(corr_df.shape), k=1).astype('bool')\n",
    "tri_df = corr_df.where(mask)\n",
    "\n",
    "corr_table = tri_df.stack().reset_index()\n",
    "corr_table.columns = ['feature1', 'feature2', 'correlation']\n",
    "corr_table = corr_table.sort_values('correlation', ascending=False)\n",
    "hi_corr_table = corr_table[corr_table['correlation']>0.8]"
   ]
  },
  {
   "cell_type": "markdown",
   "id": "d3e0e1e2-9a38-40b3-96cf-821c2b6940fc",
   "metadata": {},
   "source": [
    "### Dropping highly correlated & more redundant features"
   ]
  },
  {
   "cell_type": "code",
   "execution_count": 10,
   "id": "a6d759fc-9caa-4bba-b72d-c8f6bbaca868",
   "metadata": {},
   "outputs": [],
   "source": [
    "final_df = filtered_df.drop(['minutes_played_home', 'minutes_played_away', 'appearances_home', 'appearances_away', 'goals_overall',\n",
    "                 'goals_per_90_home', 'goals_per_90_away', 'assists_overall','rank_in_league_top_defenders', 'rank_in_club_top_scorer',\n",
    "                 'rank_in_league_top_attackers', 'rank_in_league_top_midfielders','conceded_overall','clean_sheets_overall', \n",
    "                 'cards_per_90_overall'], axis=1)"
   ]
  },
  {
   "cell_type": "markdown",
   "id": "6855148f-baf2-499f-9321-211afc31103f",
   "metadata": {},
   "source": [
    "Only goals, assists, conceded & clean sheets have home & away stats separately.<br>\n",
    "All other stats including minutes, appearances, and efficiency-related stats have their overall values."
   ]
  },
  {
   "cell_type": "code",
   "execution_count": 11,
   "id": "961a7172-93ee-4561-9ac9-8c7a352e0c1b",
   "metadata": {},
   "outputs": [
    {
     "data": {
      "text/plain": [
       "Index(['full_name', 'age', 'season', 'position', 'team',\n",
       "       'minutes_played_overall', 'nationality', 'appearances_overall',\n",
       "       'goals_home', 'goals_away', 'assists_home', 'assists_away',\n",
       "       'penalty_goals', 'penalty_misses', 'clean_sheets_home',\n",
       "       'clean_sheets_away', 'conceded_home', 'conceded_away',\n",
       "       'yellow_cards_overall', 'red_cards_overall',\n",
       "       'goals_involved_per_90_overall', 'assists_per_90_overall',\n",
       "       'goals_per_90_overall', 'min_per_goal_overall',\n",
       "       'conceded_per_90_overall', 'min_per_conceded_overall', 'min_per_match',\n",
       "       'min_per_card_overall', 'min_per_assist_overall'],\n",
       "      dtype='object')"
      ]
     },
     "execution_count": 11,
     "metadata": {},
     "output_type": "execute_result"
    }
   ],
   "source": [
    "final_df.columns"
   ]
  },
  {
   "cell_type": "markdown",
   "id": "ca858b84-4110-4719-89ac-de6dd5ad5bb6",
   "metadata": {},
   "source": [
    "---\n",
    "## Feature engineering"
   ]
  },
  {
   "cell_type": "markdown",
   "id": "2f6cd7c1-2aef-44fb-a158-912428c5d908",
   "metadata": {},
   "source": [
    "### creating 2011-2023 TOTY winners list"
   ]
  },
  {
   "cell_type": "code",
   "execution_count": 12,
   "id": "188095c5-ff7f-4422-995b-cec05bfe2e06",
   "metadata": {},
   "outputs": [],
   "source": [
    "toty = pd.DataFrame(data={\n",
    "    '2010/2011': ['Carlos Alberto Tevez','Dimitar Ivanov Berbatov','Gareth Bale','Samir Nasri','Jack Wilshere','Nani','Ashley Cole','Nemanja Vidić','Vincent Kompany','Bacary Sagna','Edwin van der Sar'],\n",
    "    '2011/2012': ['Robin van Persie','Wayne Rooney','Gareth Bale','Yaya Touré','Scott Parker','David Silva','Leighton Baines','Vincent Kompany','Fabricio Coloccini','Kyle Walker','Joe Hart'], \n",
    "    '2012/2013': ['Robin van Persie','Luis Suárez','Gareth Bale','Juan Mata','Michael Carrick','Eden Hazard','Leighton Baines','Jan Vertonghen','Rio Ferdinand','Pablo Zabaleta','David de Gea'], \n",
    "    '2013/2014': ['Luis Suárez','Daniel Sturridge','Eden Hazard','Yaya Touré','Steven Gerrard','Adam Lallana','Luke Shaw','Vincent Kompany','Gary Cahill','Séamus Coleman','Petr Čech'], \n",
    "    '2014/2015': ['Diego Costa','Harry Kane','Alexis Sanchez','Nemanja Matić','Philippe Coutinho','Eden Hazard','Ryan Bertrand','John Terry','Gary Cahill','Branislav Ivanović','David de Gea'], \n",
    "    '2015/2016': ['Jamie Vardy','Harry Kane','Dimitri Payet',\"N'Golo Kanté\",'Dele Alli','Riyad Mahrez','Danny Rose','Toby Alderweireld','Wes Morgan','Hector Bellerin','David de Gea'], \n",
    "    '2016/2017': ['Harry Kane','Romelu Lukaku','Sadio Mané','Dele Alli',\"N'Golo Kanté\",'Eden Hazard','Danny Rose','David Luiz','Gary Cahill','Kyle Walker','David de Gea'], \n",
    "    '2017/2018': ['Sergio Aguero','Harry Kane','Mohamed Salah','David Silva','Kevin De Bruyne','Christian Eriksen','Marcos Alonso','Jan Vertonghen','Nicolas Otamendi','Kyle Walker','David de Gea'], \n",
    "    '2018/2019': ['Sadio Mané','Sergio Aguero','Raheem Sterling','Paul Pogba','Fernandinho','Bernardo Silva','Andrew Robertson','Virgil van Dijk','Aymeric Laporte','Trent Alexander-Arnold','Ederson'], \n",
    "    '2019/2020': ['Sadio Mané','Jamie Vardy','Pierre-Emerick Aubameyang','David Silva','Jordan Henderson','Kevin De Bruyne','Andrew Robertson','Virgil van Dijk','Caglar Söyüncü','Trent Alexander-Arnold','Nick Pope'],\n",
    "    '2020/2021': ['Heung-Min Son','Harry Kane','Mohamed Salah','Kevin De Bruyne','İlkay Gündoğan','Bruno Fernandes','Luke Shaw','John Stones','Rúben Dias','João Cancelo','Ederson'],\n",
    "    '2021/2022': ['Sadio Mané','Cristiano Ronaldo','Mohamed Salah','Bernardo Silva','Thiago Alcantara','Kevin De Bruyne','João Cancelo','Virgil van Dijk','Antonio Rüdiger','Trent Alexander-Arnold','Alisson Becker'],\n",
    "    '2022/2023': ['Harry Kane','Erling Haaland','Bukayo Saka','Martin Ødegaard','Rodri','Kevin De Bruyne','William Saliba','John Stones','Rúben Dias','Kieran Trippier','Aaron Ramsdale']\n",
    "})\n",
    "\n",
    "toty_df = toty.melt(var_name='season', value_name='full_name')\n"
   ]
  },
  {
   "cell_type": "markdown",
   "id": "66c1d090-bfd3-4d61-9f48-10c4ae5d20ec",
   "metadata": {},
   "source": [
    "### creating target feature"
   ]
  },
  {
   "cell_type": "code",
   "execution_count": 13,
   "id": "a4dcc415-67c2-4712-96c5-04378184ced0",
   "metadata": {},
   "outputs": [],
   "source": [
    "toty_df['toty_player'] = 1\n",
    "final_df1 = final_df.merge(toty_df[['season', 'full_name', 'toty_player']], on=['season', 'full_name'], how='left')\n",
    "final_df1['toty_player'] = final_df1['toty_player'].fillna(0).astype(int)"
   ]
  },
  {
   "cell_type": "markdown",
   "id": "cd2094aa-9e46-4eb1-9beb-2ccab375904b",
   "metadata": {},
   "source": [
    "### import team data to get league position"
   ]
  },
  {
   "cell_type": "code",
   "execution_count": 14,
   "id": "323e3b0d-33b5-459b-afe6-0d74984ba90b",
   "metadata": {},
   "outputs": [],
   "source": [
    "teams_df = pd.read_csv('epl-teams-2010-2023-stats.csv', index_col=0)\n",
    "teams_df = teams_df.rename(columns={'common_name': 'team'})\n",
    "league_pos_df = teams_df[['team', 'season', 'league_position']]"
   ]
  },
  {
   "cell_type": "code",
   "execution_count": 15,
   "id": "dc664fd9-d968-413b-8d64-b63448e19b19",
   "metadata": {},
   "outputs": [],
   "source": [
    "final_df2 = final_df1.merge(league_pos_df, on=['team', 'season'], how='left')"
   ]
  },
  {
   "cell_type": "markdown",
   "id": "2f8a2901-f417-4353-8dff-bcf1081f3a75",
   "metadata": {},
   "source": [
    "#### verifying that all TOTY players have been recorded..."
   ]
  },
  {
   "cell_type": "code",
   "execution_count": 16,
   "id": "e28de317-c947-415c-8ebc-5e348b58d501",
   "metadata": {},
   "outputs": [
    {
     "data": {
      "text/plain": [
       "season\n",
       "2010/2011    11\n",
       "2011/2012    11\n",
       "2012/2013    11\n",
       "2013/2014    11\n",
       "2014/2015    11\n",
       "2015/2016    11\n",
       "2016/2017    11\n",
       "2017/2018    11\n",
       "2018/2019    11\n",
       "2019/2020    11\n",
       "2020/2021    11\n",
       "2021/2022    11\n",
       "2022/2023    11\n",
       "Name: toty_player, dtype: int32"
      ]
     },
     "execution_count": 16,
     "metadata": {},
     "output_type": "execute_result"
    }
   ],
   "source": [
    "final_df2.groupby('season').toty_player.sum()"
   ]
  },
  {
   "cell_type": "code",
   "execution_count": 17,
   "id": "98378621-d04f-452f-9fc9-f812bd0db4a2",
   "metadata": {},
   "outputs": [
    {
     "data": {
      "text/plain": [
       "(4056, 31)"
      ]
     },
     "execution_count": 17,
     "metadata": {},
     "output_type": "execute_result"
    }
   ],
   "source": [
    "final_df2.shape"
   ]
  },
  {
   "cell_type": "markdown",
   "id": "d2769899-fef2-466a-b30e-0a65da1ca23a",
   "metadata": {},
   "source": [
    "---\n",
    "## Position-specific modeling"
   ]
  },
  {
   "cell_type": "code",
   "execution_count": 52,
   "id": "c6c7b95e",
   "metadata": {},
   "outputs": [
    {
     "data": {
      "text/plain": [
       "(4056, 26)"
      ]
     },
     "execution_count": 52,
     "metadata": {},
     "output_type": "execute_result"
    }
   ],
   "source": [
    "model_df = final_df2.drop(columns= ['age', 'full_name', 'season', 'team', 'nationality'])\n",
    "model_df.shape"
   ]
  },
  {
   "cell_type": "code",
   "execution_count": 53,
   "id": "bc8918a6-37c0-48aa-8bf0-89ea03e7f733",
   "metadata": {},
   "outputs": [],
   "source": [
    "feature_mask = {\n",
    "    'Goalkeeper': ['goals_home', 'goals_away', 'assists_home', 'assists_away', 'penalty_goals', 'penalty_misses', 'goals_involved_per_90_overall', \n",
    "                   'assists_per_90_overall', 'goals_per_90_overall', 'min_per_goal_overall','min_per_assist_overall'],\n",
    "    'Defender': ['penalty_goals', 'penalty_misses'],\n",
    "    'Midfielder': [],\n",
    "    'Forward': ['clean_sheets_home', 'clean_sheets_away', 'conceded_home', 'conceded_away', 'conceded_per_90_overall', 'min_per_conceded_overall']\n",
    "}"
   ]
  },
  {
   "cell_type": "markdown",
   "id": "2e790696",
   "metadata": {},
   "source": [
    "### XGB model"
   ]
  },
  {
   "cell_type": "code",
   "execution_count": 59,
   "id": "c8959c58-1828-44c8-9048-efc4fa5551b6",
   "metadata": {},
   "outputs": [
    {
     "name": "stdout",
     "output_type": "stream",
     "text": [
      "\n",
      "Training model for Goalkeeper...\n",
      "              precision    recall  f1-score   support\n",
      "\n",
      "           0       0.96      0.92      0.94        59\n",
      "           1       0.17      0.33      0.22         3\n",
      "\n",
      "    accuracy                           0.89        62\n",
      "   macro avg       0.57      0.62      0.58        62\n",
      "weighted avg       0.93      0.89      0.90        62\n",
      "\n",
      "AUC: 0.8644\n",
      "\n",
      "Results for Goalkeeper:\n",
      "Test set size: 62\n",
      "Number of TOTY players in test set: 3\n",
      "Feature importances:\n",
      "                     Feature  Importance\n",
      "12           league_position    0.263247\n",
      "3          clean_sheets_away    0.148007\n",
      "10             min_per_match    0.123100\n",
      "8    conceded_per_90_overall    0.109845\n",
      "0     minutes_played_overall    0.099074\n",
      "11      min_per_card_overall    0.075812\n",
      "5              conceded_away    0.068916\n",
      "4              conceded_home    0.055533\n",
      "6       yellow_cards_overall    0.039823\n",
      "1        appearances_overall    0.010245\n",
      "2          clean_sheets_home    0.006397\n",
      "7          red_cards_overall    0.000000\n",
      "9   min_per_conceded_overall    0.000000\n",
      "------------------------------------------------------\n",
      "\n",
      "Training model for Defender...\n",
      "              precision    recall  f1-score   support\n",
      "\n",
      "           0       0.98      0.98      0.98       287\n",
      "           1       0.50      0.50      0.50        10\n",
      "\n",
      "    accuracy                           0.97       297\n",
      "   macro avg       0.74      0.74      0.74       297\n",
      "weighted avg       0.97      0.97      0.97       297\n",
      "\n",
      "AUC: 0.9645\n",
      "\n",
      "Results for Defender:\n",
      "Test set size: 297\n",
      "Number of TOTY players in test set: 10\n",
      "Feature importances:\n",
      "                          Feature  Importance\n",
      "21                league_position    0.350614\n",
      "17       min_per_conceded_overall    0.101479\n",
      "0          minutes_played_overall    0.077029\n",
      "7               clean_sheets_away    0.059171\n",
      "12  goals_involved_per_90_overall    0.051800\n",
      "18                  min_per_match    0.048575\n",
      "13         assists_per_90_overall    0.047810\n",
      "16        conceded_per_90_overall    0.034717\n",
      "8                   conceded_home    0.031867\n",
      "14           goals_per_90_overall    0.028752\n",
      "3                      goals_away    0.026327\n",
      "15           min_per_goal_overall    0.022654\n",
      "9                   conceded_away    0.019056\n",
      "6               clean_sheets_home    0.018256\n",
      "1             appearances_overall    0.017579\n",
      "19           min_per_card_overall    0.015961\n",
      "10           yellow_cards_overall    0.013439\n",
      "2                      goals_home    0.010308\n",
      "20         min_per_assist_overall    0.009283\n",
      "5                    assists_away    0.009094\n",
      "11              red_cards_overall    0.004294\n",
      "4                    assists_home    0.001936\n",
      "------------------------------------------------------\n",
      "\n",
      "Training model for Midfielder...\n",
      "              precision    recall  f1-score   support\n",
      "\n",
      "           0       0.98      0.98      0.98       295\n",
      "           1       0.30      0.38      0.33         8\n",
      "\n",
      "    accuracy                           0.96       303\n",
      "   macro avg       0.64      0.68      0.66       303\n",
      "weighted avg       0.96      0.96      0.96       303\n",
      "\n",
      "AUC: 0.9153\n",
      "\n",
      "Results for Midfielder:\n",
      "Test set size: 303\n",
      "Number of TOTY players in test set: 8\n",
      "Feature importances:\n",
      "                          Feature  Importance\n",
      "23                league_position    0.329383\n",
      "7                  penalty_misses    0.108735\n",
      "2                      goals_home    0.100792\n",
      "0          minutes_played_overall    0.086722\n",
      "9               clean_sheets_away    0.054098\n",
      "15         assists_per_90_overall    0.049419\n",
      "17           min_per_goal_overall    0.036876\n",
      "20                  min_per_match    0.030743\n",
      "14  goals_involved_per_90_overall    0.026638\n",
      "10                  conceded_home    0.022752\n",
      "11                  conceded_away    0.022269\n",
      "1             appearances_overall    0.022032\n",
      "18        conceded_per_90_overall    0.017722\n",
      "16           goals_per_90_overall    0.015845\n",
      "21           min_per_card_overall    0.015662\n",
      "5                    assists_away    0.014945\n",
      "8               clean_sheets_home    0.010884\n",
      "22         min_per_assist_overall    0.010762\n",
      "12           yellow_cards_overall    0.005939\n",
      "3                      goals_away    0.004964\n",
      "4                    assists_home    0.004107\n",
      "13              red_cards_overall    0.003007\n",
      "6                   penalty_goals    0.002975\n",
      "19       min_per_conceded_overall    0.002728\n",
      "------------------------------------------------------\n",
      "\n",
      "Training model for Forward...\n",
      "              precision    recall  f1-score   support\n",
      "\n",
      "           0       0.99      0.98      0.98       144\n",
      "           1       0.62      0.71      0.67         7\n",
      "\n",
      "    accuracy                           0.97       151\n",
      "   macro avg       0.81      0.85      0.82       151\n",
      "weighted avg       0.97      0.97      0.97       151\n",
      "\n",
      "AUC: 0.9702\n",
      "\n",
      "Results for Forward:\n",
      "Test set size: 151\n",
      "Number of TOTY players in test set: 7\n",
      "Feature importances:\n",
      "                          Feature  Importance\n",
      "2                      goals_home    0.546464\n",
      "12           goals_per_90_overall    0.090909\n",
      "4                    assists_home    0.051636\n",
      "10  goals_involved_per_90_overall    0.051359\n",
      "13           min_per_goal_overall    0.044285\n",
      "14                  min_per_match    0.042539\n",
      "17                league_position    0.041954\n",
      "6                   penalty_goals    0.029653\n",
      "15           min_per_card_overall    0.024747\n",
      "0          minutes_played_overall    0.017802\n",
      "8            yellow_cards_overall    0.016974\n",
      "7                  penalty_misses    0.011143\n",
      "16         min_per_assist_overall    0.008172\n",
      "3                      goals_away    0.008076\n",
      "5                    assists_away    0.005743\n",
      "1             appearances_overall    0.004564\n",
      "11         assists_per_90_overall    0.003978\n",
      "9               red_cards_overall    0.000000\n",
      "------------------------------------------------------\n"
     ]
    }
   ],
   "source": [
    "from xgboost import XGBClassifier\n",
    "from sklearn.metrics import classification_report, roc_auc_score\n",
    "from sklearn.preprocessing import StandardScaler\n",
    "from sklearn.model_selection import train_test_split\n",
    "\n",
    "\n",
    "# store models and their performance metrics\n",
    "position_models = {}\n",
    "\n",
    "for position in ['Goalkeeper', 'Defender', 'Midfielder', 'Forward']:\n",
    "    print(f\"\\nTraining model for {position}...\")\n",
    "    \n",
    "    position_df = model_df[model_df['position'] == position].copy()\n",
    "    \n",
    "    features_to_drop = feature_mask[position]\n",
    "    X = position_df.drop(features_to_drop + ['position', 'toty_player'], axis=1)\n",
    "    y = position_df['toty_player']\n",
    "    \n",
    "    X_train, X_test, y_train, y_test = train_test_split(X, y, test_size=0.2, random_state=42, stratify=y)\n",
    "    \n",
    "    # Scale the features\n",
    "    scaler = StandardScaler()\n",
    "    X_train_scaled = scaler.fit_transform(X_train)\n",
    "    X_test_scaled = scaler.transform(X_test)\n",
    "    \n",
    "\n",
    "    pos_weight = len(y_train[y_train==0]) / len(y_train[y_train==1])\n",
    "\n",
    "    classifier = XGBClassifier(\n",
    "        n_estimators=100,\n",
    "        learning_rate=0.1,\n",
    "        max_depth=4,\n",
    "        scale_pos_weight=pos_weight,    # to handle class imbalance\n",
    "        objective='binary:logistic',\n",
    "        eval_metric='auc',\n",
    "        random_state=42\n",
    "    )\n",
    "\n",
    "    classifier.fit(\n",
    "        X_train_scaled, y_train,\n",
    "        eval_set=[(X_test_scaled, y_test)],\n",
    "        verbose=False\n",
    "    )\n",
    "\n",
    "    y_pred = classifier.predict(X_test_scaled)\n",
    "    y_pred_proba = classifier.predict_proba(X_test_scaled)[:, 1]\n",
    "\n",
    "    # Evaluate\n",
    "    print(classification_report(y_test, y_pred))\n",
    "    print(f\"AUC: {roc_auc_score(y_test, y_pred_proba):.4f}\")\n",
    "\n",
    "    \n",
    "    metrics = {\n",
    "        'Feature Names': list(X.columns),\n",
    "        'Feature Importances': list(classifier.feature_importances_),\n",
    "        'Test Set Size': len(y_test),\n",
    "        'Number of TOTY Players': int(y_test.sum()),\n",
    "        'Model': classifier\n",
    "    }\n",
    "    \n",
    "    position_models[position] = metrics\n",
    "\n",
    "    print(f\"\\nResults for {position}:\")\n",
    "    print(f\"Test set size: {metrics['Test Set Size']}\")\n",
    "    print(f\"Number of TOTY players in test set: {metrics['Number of TOTY Players']}\")\n",
    "    print(\"Feature importances:\")\n",
    "    importance_df = pd.DataFrame({\n",
    "        'Feature': metrics['Feature Names'],\n",
    "        'Importance': metrics['Feature Importances']\n",
    "    }).sort_values('Importance', ascending=False)\n",
    "    print(importance_df)\n",
    "    print('------------------------------------------------------')"
   ]
  },
  {
   "cell_type": "code",
   "execution_count": null,
   "id": "d6ceb246",
   "metadata": {},
   "outputs": [],
   "source": []
  }
 ],
 "metadata": {
  "kernelspec": {
   "display_name": "base",
   "language": "python",
   "name": "python3"
  },
  "language_info": {
   "codemirror_mode": {
    "name": "ipython",
    "version": 3
   },
   "file_extension": ".py",
   "mimetype": "text/x-python",
   "name": "python",
   "nbconvert_exporter": "python",
   "pygments_lexer": "ipython3",
   "version": "3.12.4"
  }
 },
 "nbformat": 4,
 "nbformat_minor": 5
}
