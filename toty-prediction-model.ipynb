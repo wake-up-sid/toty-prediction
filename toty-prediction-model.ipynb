{
 "cells": [
  {
   "cell_type": "code",
   "execution_count": 1,
   "id": "94c81b8c-c074-42de-9ded-1953031e6b5e",
   "metadata": {},
   "outputs": [],
   "source": [
    "import numpy as np \n",
    "import pandas as pd \n",
    "import matplotlib.pyplot as plt\n",
    "import seaborn as sns\n",
    "from sklearn.preprocessing import StandardScaler\n",
    "from sklearn.tree import DecisionTreeRegressor\n",
    "from sklearn.ensemble import RandomForestRegressor\n",
    "from sklearn.feature_selection import RFE\n",
    "from sklearn.model_selection import train_test_split\n",
    "from sklearn.metrics import mean_absolute_error, mean_squared_error, r2_score\n",
    "import warnings\n",
    "warnings.filterwarnings('ignore')"
   ]
  },
  {
   "cell_type": "markdown",
   "id": "c6492071-6ac7-49ff-be92-f9695bfcdded",
   "metadata": {},
   "source": [
    "### import data"
   ]
  },
  {
   "cell_type": "code",
   "execution_count": 3,
   "id": "c8a1b411-5fb4-478d-817d-39b7afd455ed",
   "metadata": {},
   "outputs": [
    {
     "data": {
      "text/plain": [
       "(8112, 269)"
      ]
     },
     "execution_count": 3,
     "metadata": {},
     "output_type": "execute_result"
    }
   ],
   "source": [
    "player_df = pd.read_csv('epl-players-2010-2023-stats.csv').drop(columns=[\"Unnamed: 0\"], errors=\"ignore\")\n",
    "player_df.shape"
   ]
  },
  {
   "cell_type": "markdown",
   "id": "7ef8c1f2-5a1f-4ad2-b5ab-fd75bece8a0c",
   "metadata": {},
   "source": [
    "### features with >70% null records"
   ]
  },
  {
   "cell_type": "code",
   "execution_count": 4,
   "id": "16542922-0e78-4ce0-afe3-959e9092d395",
   "metadata": {},
   "outputs": [
    {
     "data": {
      "text/plain": [
       "222"
      ]
     },
     "execution_count": 4,
     "metadata": {},
     "output_type": "execute_result"
    }
   ],
   "source": [
    "missing = player_df.isnull().sum()*100/player_df.shape[0]\n",
    "player_df.columns[missing>70].shape[0]"
   ]
  },
  {
   "cell_type": "markdown",
   "id": "f07b5dbd-7bfd-4d22-b036-e7370f132ade",
   "metadata": {},
   "source": [
    "### removing 222 features + filtering for players from 2011-2020 playing >1000 min"
   ]
  },
  {
   "cell_type": "code",
   "execution_count": 5,
   "id": "ffd05e72-e0e7-4780-9812-c56ddf219ad0",
   "metadata": {},
   "outputs": [
    {
     "data": {
      "text/plain": [
       "season\n",
       "2010/2011    308\n",
       "2011/2012    312\n",
       "2012/2013    318\n",
       "2013/2014    320\n",
       "2014/2015    304\n",
       "2015/2016    311\n",
       "2016/2017    308\n",
       "2017/2018    319\n",
       "2018/2019    305\n",
       "2019/2020    307\n",
       "Name: full_name, dtype: int64"
      ]
     },
     "execution_count": 5,
     "metadata": {},
     "output_type": "execute_result"
    }
   ],
   "source": [
    "full_df = player_df[player_df.columns[missing<70]]\n",
    "final_df = full_df[full_df['minutes_played_overall']>1000]\n",
    "final_df = final_df[~final_df['season'].isin(['2020/2021','2021/2022','2022/2023'])]\n",
    "\n",
    "final_df.groupby('season').full_name.count()"
   ]
  },
  {
   "cell_type": "markdown",
   "id": "05550222-4c14-405f-a0c6-b771bbc40524",
   "metadata": {},
   "source": [
    "### correcting age & removing redundant columns"
   ]
  },
  {
   "cell_type": "code",
   "execution_count": 6,
   "id": "65985da8-e256-41dc-bb82-ea4f30d4de12",
   "metadata": {},
   "outputs": [],
   "source": [
    "final_df['birthday_GMT']= pd.to_datetime(final_df['birthday_GMT'])\n",
    "final_df['age'] = pd.to_datetime(final_df['season'].str.slice(0, 4)).dt.year - final_df['birthday_GMT'].dt.year\n",
    "final_df.drop(['birthday','birthday_GMT','league'],axis=1,inplace=True)"
   ]
  },
  {
   "cell_type": "markdown",
   "id": "436d7bb8-ed8c-4877-a010-6fb983adf88c",
   "metadata": {},
   "source": [
    "### identifying highly correlated features "
   ]
  },
  {
   "cell_type": "code",
   "execution_count": 7,
   "id": "a1579875-2ddc-45f4-8e6b-99352e83d351",
   "metadata": {},
   "outputs": [],
   "source": [
    "corr_df = final_df[final_df.select_dtypes(include=['number']).columns].corr()\n",
    "mask=np.triu(np.ones(corr_df.shape), k=1).astype('bool')\n",
    "tri_df = corr_df.where(mask)\n",
    "\n",
    "corr_table = tri_df.stack().reset_index()\n",
    "corr_table.columns = ['feature1', 'feature2', 'correlation']\n",
    "corr_table = corr_table.sort_values('correlation', ascending=False)\n",
    "hi_corr_table = corr_table[corr_table['correlation']>0.8]"
   ]
  },
  {
   "cell_type": "markdown",
   "id": "d3e0e1e2-9a38-40b3-96cf-821c2b6940fc",
   "metadata": {},
   "source": [
    "### dropping highly correlated & more redundant features"
   ]
  },
  {
   "cell_type": "code",
   "execution_count": 8,
   "id": "a6d759fc-9caa-4bba-b72d-c8f6bbaca868",
   "metadata": {},
   "outputs": [],
   "source": [
    "filtered_df = final_df.drop(['minutes_played_overall', 'appearances_overall', 'goals_overall',\n",
    "                 'goals_per_90_home', 'goals_per_90_away', 'assists_overall','rank_in_league_top_defenders', 'rank_in_club_top_scorer',\n",
    "                 'rank_in_league_top_attackers', 'rank_in_league_top_midfielders','conceded_overall','clean_sheets_overall', \n",
    "                 'cards_per_90_overall'], axis=1)"
   ]
  },
  {
   "cell_type": "markdown",
   "id": "2f6cd7c1-2aef-44fb-a158-912428c5d908",
   "metadata": {},
   "source": [
    "### creating 2011-2020 TOTY winners list"
   ]
  },
  {
   "cell_type": "code",
   "execution_count": 10,
   "id": "188095c5-ff7f-4422-995b-cec05bfe2e06",
   "metadata": {},
   "outputs": [],
   "source": [
    "toty_df = pd.DataFrame(data={\n",
    "    2011: ['Carlos Alberto Tevez','Dimitar Ivanov Berbatov','Gareth Bale','Samir Nasri','Jack Wilshere','Nani','Ashley Cole','Nemanja Vidić','Vincent Kompany','Bacary Sagna','Edwin van der Sar'],\n",
    "    2012: ['Robin van Persie','Wayne Rooney','Gareth Bale','Yaya Touré','Scott Parker','David Silva','Leighton Baines','Vincent Kompany','Fabricio Coloccini','Kyle Walker','Joe Hart'], \n",
    "    2013: ['Robin van Persie','Luis Suárez','Gareth Bale','Juan Mata','Michael Carrick','Eden Hazard','Leighton Baines','Jan Vertonghen','Rio Ferdinand','Pablo Zabaleta','David de Gea'], \n",
    "    2014: ['Luis Suárez','Daniel Sturridge','Eden Hazard','Yaya Touré','Steven Gerrard','Adam Lallana','Luke Shaw','Vincent Kompany','Gary Cahill','Séamus Coleman','Peter Čech'], \n",
    "    2015: ['Diego Costa','Harry Kane','Alexis Sanchez','Nemanja Matić','Philippe Coutinho','Eden Hazard','Ryan Bertrand','John Terry','Gary Cahill','Branislav Ivanović','David de Gea'], \n",
    "    2016: ['Jamie Vardy','Harry Kane','Dimitri Payet',\"N'Golo Kanté\",'Dele Alli','Riyad Mahrez','Danny Rose','Toby Alderweireld','Wes Morgan','Hector Bellerin','David de Gea'], \n",
    "    2017: ['Harry Kane','Romelu Lukaku','Sadio Mané','Dele Alli',\"N'Golo Kanté\",'Eden Hazard','Danny Rose','David Luiz','Gary Cahill','Kyle Walker','David de Gea'], \n",
    "    2018: ['Sergio Aguero','Harry Kane','Mohamed Salah','David Silva','Kevin De Bruyne','Christian Eriksen','Marcus Alonso','Jan Vertonghen','Nicolas Otamendi','Kyle Walker','David de Gea'], \n",
    "    2019: ['Sadio Mané','Sergio Aguero','Raheem Sterling','Paul Pogba','Fernandinho','Bernardo Silva','Andrew Robertson','Virgil van Dijk','Aymeric Laporte','Trent Alexander-Arnold','Ederson Moraes'], \n",
    "    2020: ['Sadio Mané','Jamie Vardy','Pierre-Emerick Aubameyang','David Silva','Jordan Henderson','Kevin De Bruyne','Andrew Robertson','Virgil van Dijk','Caglar Söyüncü','Trent Alexander-Arnold','Nick Pope']\n",
    "})"
   ]
  },
  {
   "cell_type": "code",
   "execution_count": null,
   "id": "782400cb-bd7b-4a12-a5ec-e0d0a1bc866b",
   "metadata": {},
   "outputs": [],
   "source": []
  },
  {
   "cell_type": "code",
   "execution_count": null,
   "id": "323e3b0d-33b5-459b-afe6-0d74984ba90b",
   "metadata": {},
   "outputs": [],
   "source": []
  }
 ],
 "metadata": {
  "kernelspec": {
   "display_name": "Python 3 (ipykernel)",
   "language": "python",
   "name": "python3"
  },
  "language_info": {
   "codemirror_mode": {
    "name": "ipython",
    "version": 3
   },
   "file_extension": ".py",
   "mimetype": "text/x-python",
   "name": "python",
   "nbconvert_exporter": "python",
   "pygments_lexer": "ipython3",
   "version": "3.12.4"
  }
 },
 "nbformat": 4,
 "nbformat_minor": 5
}
