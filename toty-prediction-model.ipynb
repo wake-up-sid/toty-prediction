{
 "cells": [
  {
   "cell_type": "code",
   "execution_count": 2,
   "id": "94c81b8c-c074-42de-9ded-1953031e6b5e",
   "metadata": {},
   "outputs": [],
   "source": [
    "import numpy as np \n",
    "import pandas as pd \n",
    "import matplotlib.pyplot as plt\n",
    "import seaborn as sns\n",
    "from sklearn.preprocessing import StandardScaler\n",
    "from sklearn.tree import DecisionTreeRegressor\n",
    "from sklearn.ensemble import RandomForestRegressor\n",
    "from sklearn.feature_selection import RFE\n",
    "from sklearn.model_selection import train_test_split\n",
    "from sklearn.metrics import mean_absolute_error, mean_squared_error, r2_score\n",
    "import warnings\n",
    "warnings.filterwarnings('ignore')"
   ]
  },
  {
   "cell_type": "markdown",
   "id": "c6492071-6ac7-49ff-be92-f9695bfcdded",
   "metadata": {},
   "source": [
    "### import data"
   ]
  },
  {
   "cell_type": "code",
   "execution_count": 76,
   "id": "c8a1b411-5fb4-478d-817d-39b7afd455ed",
   "metadata": {},
   "outputs": [
    {
     "data": {
      "text/plain": [
       "(8112, 269)"
      ]
     },
     "execution_count": 76,
     "metadata": {},
     "output_type": "execute_result"
    }
   ],
   "source": [
    "player_df = pd.read_csv('epl-players-2010-2023-stats.csv', index_col=0)\n",
    "player_df.shape"
   ]
  },
  {
   "cell_type": "markdown",
   "id": "8f3f0414-30d0-4029-9702-00bd5d2ab709",
   "metadata": {},
   "source": [
    "### name corrections"
   ]
  },
  {
   "cell_type": "code",
   "execution_count": 77,
   "id": "7c3dd5f5-f2ed-4ce6-aa4e-9ae9fd5b794f",
   "metadata": {},
   "outputs": [
    {
     "name": "stdout",
     "output_type": "stream",
     "text": [
      "['Abdoulaye Mu00e9u00eftu00e9' 'Cheik Ismau00ebl Tiotu00e9'\n",
      " 'Didier Yves Drogba Tu00e9bily' 'Emmanuel Ebouu00e9'\n",
      " 'Gnu00e9gnu00e9ri Yaya Touru00e9' 'Kolo Habib Touru00e9'\n",
      " 'Lohoru00e9 Steve Ulrich Gohouri' 'Arouna Konu00e9' 'Lacina Traoru00e9'\n",
      " 'Lamine Konu00e9' 'Jean Michau00ebl Seri']\n"
     ]
    }
   ],
   "source": [
    "wrong_names = player_df[player_df['full_name'].str.contains('u00', na=False)]['full_name'].unique()\n",
    "print(wrong_names)"
   ]
  },
  {
   "cell_type": "code",
   "execution_count": 78,
   "id": "697748e7-3659-4452-a9f6-9573ca23d9d3",
   "metadata": {},
   "outputs": [],
   "source": [
    "name_corrections = {\n",
    "    'Gnu00e9gnu00e9ri Yaya Touru00e9': 'Yaya Touré',\n",
    "    'Abdoulaye Mu00e9u00eftu00e9': 'Abdoulaye Méïté',\n",
    "    'Cheik Ismau00ebl Tiotu00e9': 'Cheik Ismaël Tioté',\n",
    "    'Emmanuel Ebouu00e9': 'Emmanuel Eboué',\n",
    "    'Kolo Habib Touru00e9': 'Kolo Habib Touré',\n",
    "    'Lohoru00e9 Steve Ulrich Gohouri': 'Lohoré Steve Ulrich Gohouri',\n",
    "    'Arouna Konu00e9': 'Arouna Koné',\n",
    "    'Lacina Traoru00e9': 'Lacina Traoré',\n",
    "    'Lamine Konu00e9': 'Lamine Koné',\n",
    "    'Jean Michau00ebl Seri': 'Jean Michaël Seri',\n",
    "    'Didier Yves Drogba Tu00e9bily': 'Didier Drogba'\n",
    "}\n",
    "\n",
    "player_df['full_name'] = player_df['full_name'].replace(name_corrections)"
   ]
  },
  {
   "cell_type": "markdown",
   "id": "05550222-4c14-405f-a0c6-b771bbc40524",
   "metadata": {},
   "source": [
    "### correcting age & removing redundant columns"
   ]
  },
  {
   "cell_type": "code",
   "execution_count": 79,
   "id": "65985da8-e256-41dc-bb82-ea4f30d4de12",
   "metadata": {},
   "outputs": [],
   "source": [
    "player_df['birthday_GMT']= pd.to_datetime(player_df['birthday_GMT'])\n",
    "player_df['age'] = pd.to_datetime(player_df['season'].str.slice(0, 4)).dt.year - player_df['birthday_GMT'].dt.year\n",
    "player_df.drop(['birthday','birthday_GMT','league'],axis=1,inplace=True)\n",
    "player_df = player_df.rename(columns={'Current Club': 'team'})"
   ]
  },
  {
   "cell_type": "markdown",
   "id": "7ef8c1f2-5a1f-4ad2-b5ab-fd75bece8a0c",
   "metadata": {},
   "source": [
    "### features with >70% null records"
   ]
  },
  {
   "cell_type": "code",
   "execution_count": 80,
   "id": "16542922-0e78-4ce0-afe3-959e9092d395",
   "metadata": {},
   "outputs": [
    {
     "data": {
      "text/plain": [
       "222"
      ]
     },
     "execution_count": 80,
     "metadata": {},
     "output_type": "execute_result"
    }
   ],
   "source": [
    "missing = player_df.isnull().sum()*100/player_df.shape[0]\n",
    "player_df.columns[missing>70].shape[0]"
   ]
  },
  {
   "cell_type": "markdown",
   "id": "f07b5dbd-7bfd-4d22-b036-e7370f132ade",
   "metadata": {},
   "source": [
    "### removing 222 features + filtering for players playing >1000 min"
   ]
  },
  {
   "cell_type": "code",
   "execution_count": 81,
   "id": "ffd05e72-e0e7-4780-9812-c56ddf219ad0",
   "metadata": {},
   "outputs": [
    {
     "data": {
      "text/plain": [
       "season\n",
       "2010/2011    308\n",
       "2011/2012    312\n",
       "2012/2013    318\n",
       "2013/2014    320\n",
       "2014/2015    304\n",
       "2015/2016    311\n",
       "2016/2017    308\n",
       "2017/2018    319\n",
       "2018/2019    305\n",
       "2019/2020    307\n",
       "2020/2021    317\n",
       "2021/2022    318\n",
       "2022/2023    309\n",
       "Name: full_name, dtype: int64"
      ]
     },
     "execution_count": 81,
     "metadata": {},
     "output_type": "execute_result"
    }
   ],
   "source": [
    "full_df = player_df[player_df.columns[missing<70]]\n",
    "filtered_df = full_df[full_df['minutes_played_overall']>1000]\n",
    "\n",
    "filtered_df.groupby('season').full_name.count()"
   ]
  },
  {
   "cell_type": "markdown",
   "id": "436d7bb8-ed8c-4877-a010-6fb983adf88c",
   "metadata": {},
   "source": [
    "### identifying highly correlated features "
   ]
  },
  {
   "cell_type": "code",
   "execution_count": 82,
   "id": "a1579875-2ddc-45f4-8e6b-99352e83d351",
   "metadata": {},
   "outputs": [],
   "source": [
    "corr_df = filtered_df[filtered_df.select_dtypes(include=['number']).columns].corr()\n",
    "mask=np.triu(np.ones(corr_df.shape), k=1).astype('bool')\n",
    "tri_df = corr_df.where(mask)\n",
    "\n",
    "corr_table = tri_df.stack().reset_index()\n",
    "corr_table.columns = ['feature1', 'feature2', 'correlation']\n",
    "corr_table = corr_table.sort_values('correlation', ascending=False)\n",
    "hi_corr_table = corr_table[corr_table['correlation']>0.8]"
   ]
  },
  {
   "cell_type": "markdown",
   "id": "d3e0e1e2-9a38-40b3-96cf-821c2b6940fc",
   "metadata": {},
   "source": [
    "### dropping highly correlated & more redundant features"
   ]
  },
  {
   "cell_type": "code",
   "execution_count": 103,
   "id": "a6d759fc-9caa-4bba-b72d-c8f6bbaca868",
   "metadata": {},
   "outputs": [],
   "source": [
    "final_df = filtered_df.drop(['minutes_played_home', 'minutes_played_away', 'appearances_home', 'appearances_away', 'goals_overall',\n",
    "                 'goals_per_90_home', 'goals_per_90_away', 'assists_overall','rank_in_league_top_defenders', 'rank_in_club_top_scorer',\n",
    "                 'rank_in_league_top_attackers', 'rank_in_league_top_midfielders','conceded_overall','clean_sheets_overall', \n",
    "                 'cards_per_90_overall'], axis=1)"
   ]
  },
  {
   "cell_type": "markdown",
   "id": "2f6cd7c1-2aef-44fb-a158-912428c5d908",
   "metadata": {},
   "source": [
    "### creating 2011-2023 TOTY winners list"
   ]
  },
  {
   "cell_type": "code",
   "execution_count": 104,
   "id": "188095c5-ff7f-4422-995b-cec05bfe2e06",
   "metadata": {},
   "outputs": [],
   "source": [
    "toty = pd.DataFrame(data={\n",
    "    '2010/2011': ['Carlos Alberto Tevez','Dimitar Ivanov Berbatov','Gareth Bale','Samir Nasri','Jack Wilshere','Nani','Ashley Cole','Nemanja Vidić','Vincent Kompany','Bacary Sagna','Edwin van der Sar'],\n",
    "    '2011/2012': ['Robin van Persie','Wayne Rooney','Gareth Bale','Yaya Touré','Scott Parker','David Silva','Leighton Baines','Vincent Kompany','Fabricio Coloccini','Kyle Walker','Joe Hart'], \n",
    "    '2012/2013': ['Robin van Persie','Luis Suárez','Gareth Bale','Juan Mata','Michael Carrick','Eden Hazard','Leighton Baines','Jan Vertonghen','Rio Ferdinand','Pablo Zabaleta','David de Gea'], \n",
    "    '2013/2014': ['Luis Suárez','Daniel Sturridge','Eden Hazard','Yaya Touré','Steven Gerrard','Adam Lallana','Luke Shaw','Vincent Kompany','Gary Cahill','Séamus Coleman','Petr Čech'], \n",
    "    '2014/2015': ['Diego Costa','Harry Kane','Alexis Sanchez','Nemanja Matić','Philippe Coutinho','Eden Hazard','Ryan Bertrand','John Terry','Gary Cahill','Branislav Ivanović','David de Gea'], \n",
    "    '2015/2016': ['Jamie Vardy','Harry Kane','Dimitri Payet',\"N'Golo Kanté\",'Dele Alli','Riyad Mahrez','Danny Rose','Toby Alderweireld','Wes Morgan','Hector Bellerin','David de Gea'], \n",
    "    '2016/2017': ['Harry Kane','Romelu Lukaku','Sadio Mané','Dele Alli',\"N'Golo Kanté\",'Eden Hazard','Danny Rose','David Luiz','Gary Cahill','Kyle Walker','David de Gea'], \n",
    "    '2017/2018': ['Sergio Aguero','Harry Kane','Mohamed Salah','David Silva','Kevin De Bruyne','Christian Eriksen','Marcos Alonso','Jan Vertonghen','Nicolas Otamendi','Kyle Walker','David de Gea'], \n",
    "    '2018/2019': ['Sadio Mané','Sergio Aguero','Raheem Sterling','Paul Pogba','Fernandinho','Bernardo Silva','Andrew Robertson','Virgil van Dijk','Aymeric Laporte','Trent Alexander-Arnold','Ederson'], \n",
    "    '2019/2020': ['Sadio Mané','Jamie Vardy','Pierre-Emerick Aubameyang','David Silva','Jordan Henderson','Kevin De Bruyne','Andrew Robertson','Virgil van Dijk','Caglar Söyüncü','Trent Alexander-Arnold','Nick Pope'],\n",
    "    '2020/2021': ['Heung-Min Son','Harry Kane','Mohamed Salah','Kevin De Bruyne','İlkay Gündoğan','Bruno Fernandes','Luke Shaw','John Stones','Rúben Dias','João Cancelo','Ederson'],\n",
    "    '2021/2022': ['Sadio Mané','Cristiano Ronaldo','Mohamed Salah','Bernardo Silva','Thiago Alcantara','Kevin De Bruyne','João Cancelo','Virgil van Dijk','Antonio Rüdiger','Trent Alexander-Arnold','Alisson Becker'],\n",
    "    '2022/2023': ['Harry Kane','Erling Haaland','Bukayo Saka','Martin Ødegaard','Rodri','Kevin De Bruyne','William Saliba','John Stones','Rúben Dias','Kieran Trippier','Aaron Ramsdale']\n",
    "})\n",
    "\n",
    "toty_df = toty.melt(var_name='season', value_name='full_name')\n"
   ]
  },
  {
   "cell_type": "markdown",
   "id": "66c1d090-bfd3-4d61-9f48-10c4ae5d20ec",
   "metadata": {},
   "source": [
    "### creating target feature"
   ]
  },
  {
   "cell_type": "code",
   "execution_count": 105,
   "id": "a4dcc415-67c2-4712-96c5-04378184ced0",
   "metadata": {},
   "outputs": [],
   "source": [
    "toty_df['toty_player'] = 1\n",
    "final_df1 = final_df.merge(toty_df[['season', 'full_name', 'toty_player']], on=['season', 'full_name'], how='left')\n",
    "final_df1['toty_player'] = final_df1['toty_player'].fillna(0).astype(int)"
   ]
  },
  {
   "cell_type": "markdown",
   "id": "cd2094aa-9e46-4eb1-9beb-2ccab375904b",
   "metadata": {},
   "source": [
    "### import team data to get league position"
   ]
  },
  {
   "cell_type": "code",
   "execution_count": 106,
   "id": "323e3b0d-33b5-459b-afe6-0d74984ba90b",
   "metadata": {},
   "outputs": [],
   "source": [
    "teams_df = pd.read_csv('epl-teams-2010-2023-stats.csv', index_col=0)\n",
    "teams_df = teams_df.rename(columns={'common_name': 'team'})\n",
    "league_pos_df = teams_df[['team', 'season', 'league_position']]"
   ]
  },
  {
   "cell_type": "code",
   "execution_count": 107,
   "id": "dc664fd9-d968-413b-8d64-b63448e19b19",
   "metadata": {},
   "outputs": [],
   "source": [
    "final_df2 = final_df1.merge(league_pos_df, on=['team', 'season'], how='left')"
   ]
  },
  {
   "cell_type": "code",
   "execution_count": 108,
   "id": "98378621-d04f-452f-9fc9-f812bd0db4a2",
   "metadata": {},
   "outputs": [
    {
     "data": {
      "text/plain": [
       "(4056, 31)"
      ]
     },
     "execution_count": 108,
     "metadata": {},
     "output_type": "execute_result"
    }
   ],
   "source": [
    "final_df2.shape"
   ]
  },
  {
   "cell_type": "code",
   "execution_count": 109,
   "id": "e28de317-c947-415c-8ebc-5e348b58d501",
   "metadata": {},
   "outputs": [
    {
     "data": {
      "text/plain": [
       "season\n",
       "2010/2011    11\n",
       "2011/2012    11\n",
       "2012/2013    11\n",
       "2013/2014    11\n",
       "2014/2015    11\n",
       "2015/2016    11\n",
       "2016/2017    11\n",
       "2017/2018    11\n",
       "2018/2019    11\n",
       "2019/2020    11\n",
       "2020/2021    11\n",
       "2021/2022    11\n",
       "2022/2023    11\n",
       "Name: toty_player, dtype: int32"
      ]
     },
     "execution_count": 109,
     "metadata": {},
     "output_type": "execute_result"
    }
   ],
   "source": [
    "final_df2.groupby('season').toty_player.sum()"
   ]
  },
  {
   "cell_type": "code",
   "execution_count": 112,
   "id": "06bbafab-4b2b-42c3-88eb-eeb084c96eb2",
   "metadata": {},
   "outputs": [
    {
     "data": {
      "text/html": [
       "<div>\n",
       "<style scoped>\n",
       "    .dataframe tbody tr th:only-of-type {\n",
       "        vertical-align: middle;\n",
       "    }\n",
       "\n",
       "    .dataframe tbody tr th {\n",
       "        vertical-align: top;\n",
       "    }\n",
       "\n",
       "    .dataframe thead th {\n",
       "        text-align: right;\n",
       "    }\n",
       "</style>\n",
       "<table border=\"1\" class=\"dataframe\">\n",
       "  <thead>\n",
       "    <tr style=\"text-align: right;\">\n",
       "      <th></th>\n",
       "      <th>full_name</th>\n",
       "      <th>age</th>\n",
       "      <th>season</th>\n",
       "      <th>position</th>\n",
       "      <th>team</th>\n",
       "      <th>minutes_played_overall</th>\n",
       "      <th>nationality</th>\n",
       "      <th>appearances_overall</th>\n",
       "      <th>goals_home</th>\n",
       "      <th>goals_away</th>\n",
       "      <th>...</th>\n",
       "      <th>assists_per_90_overall</th>\n",
       "      <th>goals_per_90_overall</th>\n",
       "      <th>min_per_goal_overall</th>\n",
       "      <th>conceded_per_90_overall</th>\n",
       "      <th>min_per_conceded_overall</th>\n",
       "      <th>min_per_match</th>\n",
       "      <th>min_per_card_overall</th>\n",
       "      <th>min_per_assist_overall</th>\n",
       "      <th>toty_player</th>\n",
       "      <th>league_position</th>\n",
       "    </tr>\n",
       "  </thead>\n",
       "  <tbody>\n",
       "    <tr>\n",
       "      <th>20</th>\n",
       "      <td>Ashley Cole</td>\n",
       "      <td>30</td>\n",
       "      <td>2010/2011</td>\n",
       "      <td>Defender</td>\n",
       "      <td>Chelsea</td>\n",
       "      <td>3386</td>\n",
       "      <td>England</td>\n",
       "      <td>38</td>\n",
       "      <td>0</td>\n",
       "      <td>0</td>\n",
       "      <td>...</td>\n",
       "      <td>0.11</td>\n",
       "      <td>0.00</td>\n",
       "      <td>0</td>\n",
       "      <td>0.80</td>\n",
       "      <td>113</td>\n",
       "      <td>89</td>\n",
       "      <td>847</td>\n",
       "      <td>847</td>\n",
       "      <td>1</td>\n",
       "      <td>2</td>\n",
       "    </tr>\n",
       "    <tr>\n",
       "      <th>23</th>\n",
       "      <td>Bacary Sagna</td>\n",
       "      <td>27</td>\n",
       "      <td>2010/2011</td>\n",
       "      <td>Defender</td>\n",
       "      <td>Arsenal</td>\n",
       "      <td>2970</td>\n",
       "      <td>France</td>\n",
       "      <td>33</td>\n",
       "      <td>0</td>\n",
       "      <td>1</td>\n",
       "      <td>...</td>\n",
       "      <td>0.09</td>\n",
       "      <td>0.03</td>\n",
       "      <td>2970</td>\n",
       "      <td>1.12</td>\n",
       "      <td>80</td>\n",
       "      <td>90</td>\n",
       "      <td>594</td>\n",
       "      <td>990</td>\n",
       "      <td>1</td>\n",
       "      <td>4</td>\n",
       "    </tr>\n",
       "    <tr>\n",
       "      <th>34</th>\n",
       "      <td>Carlos Alberto Tevez</td>\n",
       "      <td>26</td>\n",
       "      <td>2010/2011</td>\n",
       "      <td>Forward</td>\n",
       "      <td>Manchester City</td>\n",
       "      <td>2529</td>\n",
       "      <td>Argentina</td>\n",
       "      <td>31</td>\n",
       "      <td>13</td>\n",
       "      <td>7</td>\n",
       "      <td>...</td>\n",
       "      <td>0.21</td>\n",
       "      <td>0.71</td>\n",
       "      <td>126</td>\n",
       "      <td>0.60</td>\n",
       "      <td>149</td>\n",
       "      <td>82</td>\n",
       "      <td>422</td>\n",
       "      <td>422</td>\n",
       "      <td>1</td>\n",
       "      <td>3</td>\n",
       "    </tr>\n",
       "    <tr>\n",
       "      <th>71</th>\n",
       "      <td>Dimitar Ivanov Berbatov</td>\n",
       "      <td>29</td>\n",
       "      <td>2010/2011</td>\n",
       "      <td>Forward</td>\n",
       "      <td>Manchester United</td>\n",
       "      <td>2210</td>\n",
       "      <td>Bulgaria</td>\n",
       "      <td>32</td>\n",
       "      <td>16</td>\n",
       "      <td>4</td>\n",
       "      <td>...</td>\n",
       "      <td>0.16</td>\n",
       "      <td>0.81</td>\n",
       "      <td>111</td>\n",
       "      <td>1.02</td>\n",
       "      <td>88</td>\n",
       "      <td>69</td>\n",
       "      <td>2210</td>\n",
       "      <td>553</td>\n",
       "      <td>1</td>\n",
       "      <td>1</td>\n",
       "    </tr>\n",
       "    <tr>\n",
       "      <th>74</th>\n",
       "      <td>Edwin van der Sar</td>\n",
       "      <td>40</td>\n",
       "      <td>2010/2011</td>\n",
       "      <td>Goalkeeper</td>\n",
       "      <td>Manchester United</td>\n",
       "      <td>2970</td>\n",
       "      <td>Netherlands</td>\n",
       "      <td>33</td>\n",
       "      <td>0</td>\n",
       "      <td>0</td>\n",
       "      <td>...</td>\n",
       "      <td>0.03</td>\n",
       "      <td>0.00</td>\n",
       "      <td>0</td>\n",
       "      <td>0.88</td>\n",
       "      <td>102</td>\n",
       "      <td>90</td>\n",
       "      <td>2970</td>\n",
       "      <td>2970</td>\n",
       "      <td>1</td>\n",
       "      <td>1</td>\n",
       "    </tr>\n",
       "    <tr>\n",
       "      <th>88</th>\n",
       "      <td>Gareth Bale</td>\n",
       "      <td>21</td>\n",
       "      <td>2010/2011</td>\n",
       "      <td>Forward</td>\n",
       "      <td>Tottenham Hotspur</td>\n",
       "      <td>2452</td>\n",
       "      <td>Wales</td>\n",
       "      <td>30</td>\n",
       "      <td>4</td>\n",
       "      <td>3</td>\n",
       "      <td>...</td>\n",
       "      <td>0.04</td>\n",
       "      <td>0.26</td>\n",
       "      <td>350</td>\n",
       "      <td>1.17</td>\n",
       "      <td>77</td>\n",
       "      <td>82</td>\n",
       "      <td>2452</td>\n",
       "      <td>2452</td>\n",
       "      <td>1</td>\n",
       "      <td>5</td>\n",
       "    </tr>\n",
       "    <tr>\n",
       "      <th>105</th>\n",
       "      <td>Jack Wilshere</td>\n",
       "      <td>18</td>\n",
       "      <td>2010/2011</td>\n",
       "      <td>Midfielder</td>\n",
       "      <td>Arsenal</td>\n",
       "      <td>2653</td>\n",
       "      <td>England</td>\n",
       "      <td>35</td>\n",
       "      <td>0</td>\n",
       "      <td>1</td>\n",
       "      <td>...</td>\n",
       "      <td>0.10</td>\n",
       "      <td>0.03</td>\n",
       "      <td>2653</td>\n",
       "      <td>0.98</td>\n",
       "      <td>91</td>\n",
       "      <td>76</td>\n",
       "      <td>295</td>\n",
       "      <td>884</td>\n",
       "      <td>1</td>\n",
       "      <td>4</td>\n",
       "    </tr>\n",
       "    <tr>\n",
       "      <th>205</th>\n",
       "      <td>Nani</td>\n",
       "      <td>24</td>\n",
       "      <td>2010/2011</td>\n",
       "      <td>Midfielder</td>\n",
       "      <td>Manchester United</td>\n",
       "      <td>2668</td>\n",
       "      <td>Portugal</td>\n",
       "      <td>33</td>\n",
       "      <td>7</td>\n",
       "      <td>2</td>\n",
       "      <td>...</td>\n",
       "      <td>0.57</td>\n",
       "      <td>0.30</td>\n",
       "      <td>296</td>\n",
       "      <td>0.91</td>\n",
       "      <td>99</td>\n",
       "      <td>81</td>\n",
       "      <td>2668</td>\n",
       "      <td>157</td>\n",
       "      <td>1</td>\n",
       "      <td>1</td>\n",
       "    </tr>\n",
       "    <tr>\n",
       "      <th>207</th>\n",
       "      <td>Nemanja Vidić</td>\n",
       "      <td>29</td>\n",
       "      <td>2010/2011</td>\n",
       "      <td>Defender</td>\n",
       "      <td>Manchester United</td>\n",
       "      <td>3118</td>\n",
       "      <td>Serbia</td>\n",
       "      <td>35</td>\n",
       "      <td>3</td>\n",
       "      <td>2</td>\n",
       "      <td>...</td>\n",
       "      <td>0.03</td>\n",
       "      <td>0.14</td>\n",
       "      <td>624</td>\n",
       "      <td>0.87</td>\n",
       "      <td>104</td>\n",
       "      <td>89</td>\n",
       "      <td>390</td>\n",
       "      <td>3118</td>\n",
       "      <td>1</td>\n",
       "      <td>1</td>\n",
       "    </tr>\n",
       "    <tr>\n",
       "      <th>254</th>\n",
       "      <td>Samir Nasri</td>\n",
       "      <td>23</td>\n",
       "      <td>2010/2011</td>\n",
       "      <td>Midfielder</td>\n",
       "      <td>Arsenal</td>\n",
       "      <td>2390</td>\n",
       "      <td>France</td>\n",
       "      <td>30</td>\n",
       "      <td>6</td>\n",
       "      <td>4</td>\n",
       "      <td>...</td>\n",
       "      <td>0.04</td>\n",
       "      <td>0.38</td>\n",
       "      <td>239</td>\n",
       "      <td>0.94</td>\n",
       "      <td>96</td>\n",
       "      <td>80</td>\n",
       "      <td>598</td>\n",
       "      <td>2390</td>\n",
       "      <td>1</td>\n",
       "      <td>4</td>\n",
       "    </tr>\n",
       "    <tr>\n",
       "      <th>296</th>\n",
       "      <td>Vincent Kompany</td>\n",
       "      <td>24</td>\n",
       "      <td>2010/2011</td>\n",
       "      <td>Defender</td>\n",
       "      <td>Manchester City</td>\n",
       "      <td>3330</td>\n",
       "      <td>Belgium</td>\n",
       "      <td>37</td>\n",
       "      <td>0</td>\n",
       "      <td>0</td>\n",
       "      <td>...</td>\n",
       "      <td>0.03</td>\n",
       "      <td>0.00</td>\n",
       "      <td>0</td>\n",
       "      <td>0.76</td>\n",
       "      <td>119</td>\n",
       "      <td>90</td>\n",
       "      <td>555</td>\n",
       "      <td>3330</td>\n",
       "      <td>1</td>\n",
       "      <td>3</td>\n",
       "    </tr>\n",
       "  </tbody>\n",
       "</table>\n",
       "<p>11 rows × 31 columns</p>\n",
       "</div>"
      ],
      "text/plain": [
       "                   full_name  age     season    position               team  \\\n",
       "20               Ashley Cole   30  2010/2011    Defender            Chelsea   \n",
       "23              Bacary Sagna   27  2010/2011    Defender            Arsenal   \n",
       "34      Carlos Alberto Tevez   26  2010/2011     Forward    Manchester City   \n",
       "71   Dimitar Ivanov Berbatov   29  2010/2011     Forward  Manchester United   \n",
       "74         Edwin van der Sar   40  2010/2011  Goalkeeper  Manchester United   \n",
       "88               Gareth Bale   21  2010/2011     Forward  Tottenham Hotspur   \n",
       "105            Jack Wilshere   18  2010/2011  Midfielder            Arsenal   \n",
       "205                     Nani   24  2010/2011  Midfielder  Manchester United   \n",
       "207            Nemanja Vidić   29  2010/2011    Defender  Manchester United   \n",
       "254              Samir Nasri   23  2010/2011  Midfielder            Arsenal   \n",
       "296          Vincent Kompany   24  2010/2011    Defender    Manchester City   \n",
       "\n",
       "     minutes_played_overall  nationality  appearances_overall  goals_home  \\\n",
       "20                     3386      England                   38           0   \n",
       "23                     2970       France                   33           0   \n",
       "34                     2529    Argentina                   31          13   \n",
       "71                     2210     Bulgaria                   32          16   \n",
       "74                     2970  Netherlands                   33           0   \n",
       "88                     2452        Wales                   30           4   \n",
       "105                    2653      England                   35           0   \n",
       "205                    2668     Portugal                   33           7   \n",
       "207                    3118       Serbia                   35           3   \n",
       "254                    2390       France                   30           6   \n",
       "296                    3330      Belgium                   37           0   \n",
       "\n",
       "     goals_away  ...  assists_per_90_overall  goals_per_90_overall  \\\n",
       "20            0  ...                    0.11                  0.00   \n",
       "23            1  ...                    0.09                  0.03   \n",
       "34            7  ...                    0.21                  0.71   \n",
       "71            4  ...                    0.16                  0.81   \n",
       "74            0  ...                    0.03                  0.00   \n",
       "88            3  ...                    0.04                  0.26   \n",
       "105           1  ...                    0.10                  0.03   \n",
       "205           2  ...                    0.57                  0.30   \n",
       "207           2  ...                    0.03                  0.14   \n",
       "254           4  ...                    0.04                  0.38   \n",
       "296           0  ...                    0.03                  0.00   \n",
       "\n",
       "     min_per_goal_overall  conceded_per_90_overall  min_per_conceded_overall  \\\n",
       "20                      0                     0.80                       113   \n",
       "23                   2970                     1.12                        80   \n",
       "34                    126                     0.60                       149   \n",
       "71                    111                     1.02                        88   \n",
       "74                      0                     0.88                       102   \n",
       "88                    350                     1.17                        77   \n",
       "105                  2653                     0.98                        91   \n",
       "205                   296                     0.91                        99   \n",
       "207                   624                     0.87                       104   \n",
       "254                   239                     0.94                        96   \n",
       "296                     0                     0.76                       119   \n",
       "\n",
       "     min_per_match  min_per_card_overall  min_per_assist_overall  toty_player  \\\n",
       "20              89                   847                     847            1   \n",
       "23              90                   594                     990            1   \n",
       "34              82                   422                     422            1   \n",
       "71              69                  2210                     553            1   \n",
       "74              90                  2970                    2970            1   \n",
       "88              82                  2452                    2452            1   \n",
       "105             76                   295                     884            1   \n",
       "205             81                  2668                     157            1   \n",
       "207             89                   390                    3118            1   \n",
       "254             80                   598                    2390            1   \n",
       "296             90                   555                    3330            1   \n",
       "\n",
       "     league_position  \n",
       "20                 2  \n",
       "23                 4  \n",
       "34                 3  \n",
       "71                 1  \n",
       "74                 1  \n",
       "88                 5  \n",
       "105                4  \n",
       "205                1  \n",
       "207                1  \n",
       "254                4  \n",
       "296                3  \n",
       "\n",
       "[11 rows x 31 columns]"
      ]
     },
     "execution_count": 112,
     "metadata": {},
     "output_type": "execute_result"
    }
   ],
   "source": [
    "mask = (final_df2['season'] == '2010/2011') & (final_df2['toty_player'] == 1)\n",
    "final_df2[mask]"
   ]
  },
  {
   "cell_type": "code",
   "execution_count": null,
   "id": "be958c87-32dd-4183-ae96-6504cdd46915",
   "metadata": {},
   "outputs": [],
   "source": []
  }
 ],
 "metadata": {
  "kernelspec": {
   "display_name": "Python 3 (ipykernel)",
   "language": "python",
   "name": "python3"
  },
  "language_info": {
   "codemirror_mode": {
    "name": "ipython",
    "version": 3
   },
   "file_extension": ".py",
   "mimetype": "text/x-python",
   "name": "python",
   "nbconvert_exporter": "python",
   "pygments_lexer": "ipython3",
   "version": "3.12.4"
  }
 },
 "nbformat": 4,
 "nbformat_minor": 5
}
